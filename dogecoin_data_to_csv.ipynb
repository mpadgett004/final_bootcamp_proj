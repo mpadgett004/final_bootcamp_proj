<<<<<<< HEAD
version https://git-lfs.github.com/spec/v1
oid sha256:3bef80897e7ee903a7419206da96cbd4326a8069879d902be3d7e3943bbf124d
size 23832
=======
{
 "cells": [
  {
   "cell_type": "code",
   "execution_count": 166,
   "metadata": {},
   "outputs": [],
   "source": [
    "import pandas as pd\n",
    "import requests\n",
    "import datetime as dt"
   ]
  },
  {
   "cell_type": "code",
   "execution_count": 167,
   "metadata": {},
   "outputs": [
    {
     "name": "stdout",
     "output_type": "stream",
     "text": [
      "['16-04-2021', '17-04-2021', '18-04-2021', '19-04-2021', '20-04-2021', '21-04-2021', '22-04-2021', '23-04-2021']\n"
     ]
    }
   ],
   "source": [
    "import datetime as dt\n",
    "b = []\n",
    "\n",
    "def daterange(date1, date2):\n",
    "    for n in range(int ((date2 - date1).days)+1):\n",
    "        yield date1 + dt.timedelta(n)\n",
    "\n",
    "end = dt.date(2021, 4, 23)\n",
    "start = dt.date(2021, 4, 16)\n",
    "for a in daterange(start, end):\n",
    "    b.append(a.strftime(\"%d-%m-%Y\"))\n",
    "print(b)"
   ]
  },
  {
   "cell_type": "code",
   "execution_count": 253,
   "metadata": {},
   "outputs": [],
   "source": [
    "url = \"https://api.coingecko.com/api/v3/coins/dogecoin/market_chart/range?vs_currency=usd&from=1611594101&to=1619193701\"\n",
    "c = requests.get(url).json()\n",
    "url2 = \"https://api.coingecko.com/api/v3/coins/dogecoin/market_chart/range?vs_currency=usd&from=1619193701&to=1619809200\"\n",
    "af = requests.get(url2).json()"
   ]
  },
  {
   "cell_type": "code",
   "execution_count": 270,
   "metadata": {},
   "outputs": [
    {
     "name": "stdout",
     "output_type": "stream",
     "text": [
      "                   0                       1\n",
      "0     [1611594303094   0.008530866247265992]\n",
      "1     [1611597858306    0.00855313501727671]\n",
      "2     [1611602395122   0.008499637100833023]\n",
      "3     [1611606208588   0.008477597315980084]\n",
      "4     [1611609289354    0.00845408573531732]\n",
      "...              ...                     ...\n",
      "2109  [1619175815683    0.24293724549386447]\n",
      "2110  [1619179585625    0.24292007006455443]\n",
      "2111  [1619183258075    0.22502125092593847]\n",
      "2112  [1619186630900    0.22108449319026596]\n",
      "2113  [1619190293945    0.23157691926433008]\n",
      "\n",
      "[2114 rows x 2 columns]\n"
     ]
    }
   ],
   "source": [
    "d = pd.DataFrame(c)\n",
    "f = pd.DataFrame(d['prices'])\n",
    "g = f.applymap(str)\n",
    "e = g['prices'].str.split(',', expand=True)\n",
    "print(e)"
   ]
  },
  {
   "cell_type": "code",
   "execution_count": 271,
   "metadata": {},
   "outputs": [],
   "source": [
    "e.columns = ['timestamp', 'price']\n",
    "e['timestamp'] = e['timestamp'].str[1:]\n",
    "e['price'] = e['price'].str[:-1]\n",
    "e['price'] = pd.to_numeric(e['price'])\n",
    "e['timestamp'] = pd.to_numeric(e['timestamp'])"
   ]
  },
  {
   "cell_type": "code",
   "execution_count": 272,
   "metadata": {},
   "outputs": [],
   "source": [
    "e['datetime'] = e['timestamp']\n",
    "e['datetime'] = pd.to_datetime(e['datetime'], unit='ms')"
   ]
  },
  {
   "cell_type": "code",
   "execution_count": 273,
   "metadata": {},
   "outputs": [
    {
     "name": "stdout",
     "output_type": "stream",
     "text": [
      "          timestamp     price            datetime\n",
      "0     1611594303094  0.008531 2021-01-25 17:05:03\n",
      "1     1611597858306  0.008553 2021-01-25 18:04:18\n",
      "2     1611602395122  0.008500 2021-01-25 19:19:55\n",
      "3     1611606208588  0.008478 2021-01-25 20:23:28\n",
      "4     1611609289354  0.008454 2021-01-25 21:14:49\n",
      "...             ...       ...                 ...\n",
      "2109  1619175815683  0.242937 2021-04-23 11:03:35\n",
      "2110  1619179585625  0.242920 2021-04-23 12:06:25\n",
      "2111  1619183258075  0.225021 2021-04-23 13:07:38\n",
      "2112  1619186630900  0.221084 2021-04-23 14:03:50\n",
      "2113  1619190293945  0.231577 2021-04-23 15:04:53\n",
      "\n",
      "[2114 rows x 3 columns]\n"
     ]
    }
   ],
   "source": [
    "e['datetime'] = e['datetime'].astype(str)\n",
    "e['datetime'] = e['datetime'].str[:-4]\n",
    "e['datetime'] = pd.to_datetime(e['datetime'])\n",
    "print(e)"
   ]
  },
  {
   "cell_type": "code",
   "execution_count": 82,
   "metadata": {},
   "outputs": [],
   "source": [
    "#print(d)"
   ]
  },
  {
   "cell_type": "code",
   "execution_count": 274,
   "metadata": {},
   "outputs": [
    {
     "name": "stdout",
     "output_type": "stream",
     "text": [
      "        Unnamed: 0                                               body  \\\n",
      "0                0  When are the deposits suppose to hit? Do you h...   \n",
      "1                1                                             Wow 😂😂   \n",
      "2                2  Everyone from fomo Tuesday last week will star...   \n",
      "3                3             Use Uphold app to purchase more doge !   \n",
      "4                4                  200k @ 0.007 been holding strong!   \n",
      "...            ...                                                ...   \n",
      "521847      521847                           Give Eth a glass of milk   \n",
      "521848      521848                         we have each other, right?   \n",
      "521849      521849  It seems like a lot of people are thinking we’...   \n",
      "521850      521850  Last night watching ADA rise I was stressing o...   \n",
      "521851      521851          This Eth ratio just keeps on dipping holy   \n",
      "\n",
      "         created_utc   parent_id                 date  polarity score  \\\n",
      "0       1.612233e+09  t1_glolysj  2021-02-02 02:32:22          0.0000   \n",
      "1       1.612233e+09  t1_glom3c7  2021-02-02 02:32:38          0.8625   \n",
      "2       1.612233e+09  t1_glolmuy  2021-02-02 02:32:48          0.0000   \n",
      "3       1.612233e+09   t3_laiu4v  2021-02-02 02:33:02          0.0000   \n",
      "4       1.612233e+09   t3_laiu4v  2021-02-02 02:33:08          0.5562   \n",
      "...              ...         ...                  ...             ...   \n",
      "521847  1.614493e+09   t3_lu0lxv  2021-02-28 06:12:26          0.0000   \n",
      "521848  1.614493e+09   t3_lu0lxv  2021-02-28 06:10:30          0.0000   \n",
      "521849  1.614568e+09   t3_lu0lxv  2021-03-01 03:01:40          0.4996   \n",
      "521850  1.614492e+09   t3_lu0lxv  2021-02-28 05:52:31         -0.1779   \n",
      "521851  1.614491e+09   t3_lu0lxv  2021-02-28 05:50:50          0.0000   \n",
      "\n",
      "        negative score  neutral score  positive score Comment Score  \n",
      "0                0.000          1.000           0.000       Neutral  \n",
      "1                0.179          0.283           0.538      Positive  \n",
      "2                0.000          1.000           0.000       Neutral  \n",
      "3                0.000          1.000           0.000       Neutral  \n",
      "4                0.000          0.582           0.418      Positive  \n",
      "...                ...            ...             ...           ...  \n",
      "521847           0.000          1.000           0.000       Neutral  \n",
      "521848           0.000          1.000           0.000       Neutral  \n",
      "521849           0.048          0.821           0.131      Positive  \n",
      "521850           0.130          0.749           0.122      Negative  \n",
      "521851           0.000          1.000           0.000       Neutral  \n",
      "\n",
      "[521852 rows x 10 columns]\n"
     ]
    }
   ],
   "source": [
    "p = pd.read_csv(\"/Users/alexandergoldstein/Downloads/total_reddit_comments copy.csv\")\n",
    "q = pd.DataFrame(p)\n",
    "print(q)"
   ]
  },
  {
   "cell_type": "code",
   "execution_count": 275,
   "metadata": {},
   "outputs": [],
   "source": [
    "q = q.dropna()\n",
    "h = q[['date', 'negative score']]\n",
    "h = pd.DataFrame(h)\n",
    "i = q[['date', 'neutral score']]\n",
    "i = pd.DataFrame(i)\n",
    "ag = q[['date', 'polarity score']]\n",
    "ag = pd.DataFrame(ag)\n",
    "j = q[['date', 'positive score']]\n",
    "j = pd.DataFrame(j)"
   ]
  },
  {
   "cell_type": "code",
   "execution_count": 276,
   "metadata": {},
   "outputs": [],
   "source": [
    "k = h.groupby(['date'], as_index=False).mean()\n",
    "l = i.groupby(['date'], as_index=False).mean()\n",
    "m = j.groupby(['date'], as_index=False).mean()\n",
    "ah = ag.groupby(['date'], as_index=False).mean()"
   ]
  },
  {
   "cell_type": "code",
   "execution_count": 277,
   "metadata": {},
   "outputs": [
    {
     "name": "stdout",
     "output_type": "stream",
     "text": [
      "                       date  negative score  neutral score  polarity score  \\\n",
      "0       2021-01-28 21:35:23             0.0          0.303          0.5574   \n",
      "1       2021-01-28 21:35:25             0.0          1.000          0.0000   \n",
      "2       2021-01-28 21:35:30             0.0          1.000          0.0000   \n",
      "3       2021-01-28 21:35:37             0.0          1.000          0.0000   \n",
      "4       2021-01-28 21:36:08             0.0          1.000          0.0000   \n",
      "...                     ...             ...            ...             ...   \n",
      "420209  2021-04-30 10:03:31             0.0          0.588          0.4215   \n",
      "420210  2021-04-30 10:04:00             0.0          0.767          0.7698   \n",
      "420211  2021-04-30 11:49:24             0.0          1.000          0.0000   \n",
      "420212  2021-04-30 12:40:04             0.0          1.000          0.0000   \n",
      "420213  2021-04-30 13:32:04             0.0          0.603          0.5574   \n",
      "\n",
      "        positive score  \n",
      "0                0.697  \n",
      "1                0.000  \n",
      "2                0.000  \n",
      "3                0.000  \n",
      "4                0.000  \n",
      "...                ...  \n",
      "420209           0.412  \n",
      "420210           0.233  \n",
      "420211           0.000  \n",
      "420212           0.000  \n",
      "420213           0.397  \n",
      "\n",
      "[420214 rows x 5 columns]\n"
     ]
    }
   ],
   "source": [
    "n = k.join(l['neutral score'])\n",
    "ai = n.join(ah['polarity score'])\n",
    "o = ai.join(m['positive score'])\n",
    "print(o)"
   ]
  },
  {
   "cell_type": "code",
   "execution_count": 278,
   "metadata": {},
   "outputs": [
    {
     "name": "stdout",
     "output_type": "stream",
     "text": [
      "2114\n"
     ]
    }
   ],
   "source": [
    "o['date'] = o['date'].astype(str)\n",
    "o['date'] = o['date'].str[:-6]\n",
    "o['date'] = pd.to_datetime(o['date'])\n",
    "e['datetime'] = e['datetime'].astype(str)\n",
    "e['datetime'] = e['datetime'].str[:-6]\n",
    "e['datetime'] = pd.to_datetime(e['datetime'])\n",
    "w = o.groupby(['date'], as_index=False).mean()\n",
    "e['date'] = e['datetime']\n",
    "x = e.drop(['datetime'], axis=1)\n",
    "x.set_index(['date'], inplace=True)\n",
    "w.set_index(['date'], inplace=True)\n",
    "\n",
    "y = x.join(w)\n",
    "y.dropna()\n",
    "print(len(y))"
   ]
  },
  {
   "cell_type": "code",
   "execution_count": 279,
   "metadata": {},
   "outputs": [],
   "source": [
    "y.to_csv('anger4.csv')"
   ]
  },
  {
   "cell_type": "code",
   "execution_count": 282,
   "metadata": {},
   "outputs": [
    {
     "name": "stdout",
     "output_type": "stream",
     "text": [
      "Index(['Unnamed: 0', 'date', 'timestamp', 'price', 'negative_score',\n",
      "       'neutral_score', 'polarity_score', 'positive_score', 'Price_Change'],\n",
      "      dtype='object')\n"
     ]
    }
   ],
   "source": [
    "#data cleaned in R\n",
    "u = pd.read_csv(\"/Users/alexandergoldstein/Desktop/joy4.csv\")\n",
    "v = pd.DataFrame(u)\n",
    "print(v.columns)\n",
    "s = v.price_change.values.reshape(-1, 1)\n",
    "t = v.negative_score.values.reshape(-1, 1)"
   ]
  },
  {
   "cell_type": "code",
   "execution_count": 252,
   "metadata": {},
   "outputs": [
    {
     "name": "stdout",
     "output_type": "stream",
     "text": [
      "-0.01101439094604828\n"
     ]
    }
   ],
   "source": [
    "from sklearn.metrics import mean_squared_error, r2_score\n",
    "from sklearn.model_selection import train_test_split as tts\n",
    "from sklearn.linear_model import LinearRegression as lm\n",
    "X_train, X_test, y_train, y_test = tts(s, t, random_state=42)\n",
    "ae = lm()\n",
    "ae.fit(X_train, y_train)\n",
    "z = ae.predict(X_test)\n",
    "aa = mean_squared_error(y_test, z)\n",
    "ab = r2_score(y_test, z)\n",
    "\n",
    "ac = ae.score(X_test, y_test)\n",
    "print(ac)"
   ]
  },
  {
   "cell_type": "code",
   "execution_count": 284,
   "metadata": {},
   "outputs": [
    {
     "data": {
      "text/plain": [
       "<matplotlib.collections.PathCollection at 0x7fd368442550>"
      ]
     },
     "execution_count": 284,
     "metadata": {},
     "output_type": "execute_result"
    },
    {
     "data": {
      "image/png": "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\n",
      "text/plain": [
       "<Figure size 432x288 with 1 Axes>"
      ]
     },
     "metadata": {
      "needs_background": "light"
     },
     "output_type": "display_data"
    }
   ],
   "source": [
    "import matplotlib.pyplot as plt\n",
    "\n",
    "aj = v.neutral_score.values.reshape(-1, 1)\n",
    "ak = v.positive_score.values.reshape(-1, 1)\n",
    "al = v.polarity_score.values.reshape(-1, 1)\n",
    "\n",
    "plt.scatter(s, t)"
   ]
  },
  {
   "cell_type": "code",
   "execution_count": 285,
   "metadata": {},
   "outputs": [
    {
     "name": "stdout",
     "output_type": "stream",
     "text": [
      "0.0034344560217961506\n"
     ]
    }
   ],
   "source": [
    "X_train, X_test, y_train, y_test = tts(s, aj, random_state=42)\n",
    "am = lm()\n",
    "am.fit(X_train, y_train)\n",
    "an = am.predict(X_test)\n",
    "ao = mean_squared_error(y_test, an)\n",
    "ap = r2_score(y_test, an)\n",
    "\n",
    "aq = am.score(X_test, y_test)\n",
    "print(aq)"
   ]
  },
  {
   "cell_type": "code",
   "execution_count": 286,
   "metadata": {},
   "outputs": [
    {
     "name": "stdout",
     "output_type": "stream",
     "text": [
      "-0.0075889916419569214\n"
     ]
    }
   ],
   "source": [
    "X_train, X_test, y_train, y_test = tts(s, ak, random_state=42)\n",
    "ar = lm()\n",
    "ar.fit(X_train, y_train)\n",
    "at = ar.predict(X_test)\n",
    "au = mean_squared_error(y_test, at)\n",
    "av = r2_score(y_test, at)\n",
    "\n",
    "aw = ar.score(X_test, y_test)\n",
    "print(aw)"
   ]
  },
  {
   "cell_type": "code",
   "execution_count": 287,
   "metadata": {},
   "outputs": [
    {
     "name": "stdout",
     "output_type": "stream",
     "text": [
      "-0.01151742722874527\n"
     ]
    }
   ],
   "source": [
    "X_train, X_test, y_train, y_test = tts(s, al, random_state=42)\n",
    "ax = lm()\n",
    "ax.fit(X_train, y_train)\n",
    "ay = ax.predict(X_test)\n",
    "az = mean_squared_error(y_test, ay)\n",
    "ba = r2_score(y_test, ay)\n",
    "\n",
    "bb = ax.score(X_test, y_test)\n",
    "print(bb)"
   ]
  },
  {
   "cell_type": "code",
   "execution_count": 288,
   "metadata": {},
   "outputs": [
    {
     "name": "stdout",
     "output_type": "stream",
     "text": [
      "-0.01101439094604828\n",
      "0.0034344560217961506\n",
      "-0.0075889916419569214\n",
      "-0.01151742722874527\n"
     ]
    }
   ],
   "source": [
    "#regression model scores– price change vs sentiment\n",
    "\n",
    "print(ac) #negative score linear regression model\n",
    "print(aq) #neutral score linear regression model\n",
    "print(aw) #positive score linear regression model\n",
    "print(bb) #polarity score linear regression model"
   ]
  },
  {
   "cell_type": "code",
   "execution_count": 289,
   "metadata": {},
   "outputs": [
    {
     "data": {
      "text/plain": [
       "<matplotlib.collections.PathCollection at 0x7fd33884d9d0>"
      ]
     },
     "execution_count": 289,
     "metadata": {},
     "output_type": "execute_result"
    },
    {
     "data": {
      "image/png": "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\n",
      "text/plain": [
       "<Figure size 432x288 with 1 Axes>"
      ]
     },
     "metadata": {
      "needs_background": "light"
     },
     "output_type": "display_data"
    }
   ],
   "source": [
    "plt.scatter(s, aj)"
   ]
  },
  {
   "cell_type": "code",
   "execution_count": 290,
   "metadata": {},
   "outputs": [
    {
     "data": {
      "text/plain": [
       "<matplotlib.collections.PathCollection at 0x7fd3450c7580>"
      ]
     },
     "execution_count": 290,
     "metadata": {},
     "output_type": "execute_result"
    },
    {
     "data": {
      "image/png": "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\n",
      "text/plain": [
       "<Figure size 432x288 with 1 Axes>"
      ]
     },
     "metadata": {
      "needs_background": "light"
     },
     "output_type": "display_data"
    }
   ],
   "source": [
    "#scatter plots of neutral, positive, and polarity score against price change\n",
    "plt.scatter(s, ak)"
   ]
  },
  {
   "cell_type": "code",
   "execution_count": 291,
   "metadata": {},
   "outputs": [
    {
     "data": {
      "text/plain": [
       "<matplotlib.collections.PathCollection at 0x7fd3450eb580>"
      ]
     },
     "execution_count": 291,
     "metadata": {},
     "output_type": "execute_result"
    },
    {
     "data": {
      "image/png": "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\n",
      "text/plain": [
       "<Figure size 432x288 with 1 Axes>"
      ]
     },
     "metadata": {
      "needs_background": "light"
     },
     "output_type": "display_data"
    }
   ],
   "source": [
    "plt.scatter(s, al)"
   ]
  },
  {
   "cell_type": "code",
   "execution_count": null,
   "metadata": {},
   "outputs": [],
   "source": []
  }
 ],
 "metadata": {
  "kernelspec": {
   "display_name": "Python 3",
   "language": "python",
   "name": "python3"
  },
  "language_info": {
   "codemirror_mode": {
    "name": "ipython",
    "version": 3
   },
   "file_extension": ".py",
   "mimetype": "text/x-python",
   "name": "python",
   "nbconvert_exporter": "python",
   "pygments_lexer": "ipython3",
   "version": "3.8.3"
  }
 },
 "nbformat": 4,
 "nbformat_minor": 4
}
>>>>>>> 5291f9df78c34b9f81ca9eafe86db6a56169a364
